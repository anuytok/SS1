{
 "cells": [
  {
   "cell_type": "code",
   "execution_count": 1,
   "metadata": {
    "ExecuteTime": {
     "end_time": "2020-05-16T18:58:31.282075Z",
     "start_time": "2020-05-16T18:58:30.260278Z"
    }
   },
   "outputs": [
    {
     "name": "stdout",
     "output_type": "stream",
     "text": [
      "Requirement already satisfied: moviepy in /Users/levbednyagin/PycharmProjects/jup/lib/python3.7/site-packages (1.0.3)\n",
      "Requirement already satisfied: decorator<5.0,>=4.0.2 in /Users/levbednyagin/PycharmProjects/jup/lib/python3.7/site-packages (from moviepy) (4.4.1)\n",
      "Requirement already satisfied: tqdm<5.0,>=4.11.2 in /Users/levbednyagin/PycharmProjects/jup/lib/python3.7/site-packages (from moviepy) (4.42.1)\n",
      "Requirement already satisfied: requests<3.0,>=2.8.1 in /Users/levbednyagin/PycharmProjects/jup/lib/python3.7/site-packages (from moviepy) (2.22.0)\n",
      "Requirement already satisfied: proglog<=1.0.0 in /Users/levbednyagin/PycharmProjects/jup/lib/python3.7/site-packages (from moviepy) (0.1.9)\n",
      "Requirement already satisfied: numpy>=1.17.3 in /Users/levbednyagin/PycharmProjects/jup/lib/python3.7/site-packages (from moviepy) (1.18.1)\n",
      "Requirement already satisfied: imageio<3.0,>=2.5 in /Users/levbednyagin/PycharmProjects/jup/lib/python3.7/site-packages (from moviepy) (2.8.0)\n",
      "Requirement already satisfied: imageio_ffmpeg>=0.2.0 in /Users/levbednyagin/PycharmProjects/jup/lib/python3.7/site-packages (from moviepy) (0.4.2)\n",
      "Requirement already satisfied: certifi>=2017.4.17 in /Users/levbednyagin/PycharmProjects/jup/lib/python3.7/site-packages (from requests<3.0,>=2.8.1->moviepy) (2019.11.28)\n",
      "Requirement already satisfied: chardet<3.1.0,>=3.0.2 in /Users/levbednyagin/PycharmProjects/jup/lib/python3.7/site-packages (from requests<3.0,>=2.8.1->moviepy) (3.0.4)\n",
      "Requirement already satisfied: idna<2.9,>=2.5 in /Users/levbednyagin/PycharmProjects/jup/lib/python3.7/site-packages (from requests<3.0,>=2.8.1->moviepy) (2.8)\n",
      "Requirement already satisfied: urllib3!=1.25.0,!=1.25.1,<1.26,>=1.21.1 in /Users/levbednyagin/PycharmProjects/jup/lib/python3.7/site-packages (from requests<3.0,>=2.8.1->moviepy) (1.25.8)\n",
      "Requirement already satisfied: pillow in /Users/levbednyagin/PycharmProjects/jup/lib/python3.7/site-packages (from imageio<3.0,>=2.5->moviepy) (7.1.2)\n",
      "\u001b[33mWARNING: You are using pip version 19.2.3, however version 20.1 is available.\n",
      "You should consider upgrading via the 'pip install --upgrade pip' command.\u001b[0m\n"
     ]
    }
   ],
   "source": [
    "! pip install moviepy"
   ]
  },
  {
   "cell_type": "code",
   "execution_count": 2,
   "metadata": {
    "ExecuteTime": {
     "end_time": "2020-05-16T18:58:31.791612Z",
     "start_time": "2020-05-16T18:58:31.285721Z"
    }
   },
   "outputs": [],
   "source": [
    "from moviepy.editor import *"
   ]
  },
  {
   "cell_type": "markdown",
   "metadata": {
    "ExecuteTime": {
     "end_time": "2020-05-16T15:50:13.224586Z",
     "start_time": "2020-05-16T15:50:13.219928Z"
    }
   },
   "source": [
    "# Importing music"
   ]
  },
  {
   "cell_type": "code",
   "execution_count": 3,
   "metadata": {
    "ExecuteTime": {
     "end_time": "2020-05-16T18:58:31.860389Z",
     "start_time": "2020-05-16T18:58:31.794956Z"
    }
   },
   "outputs": [],
   "source": [
    "music = AudioFileClip(\"./data/music.mp3\")\n",
    "music_short = music.set_end((2, 30))"
   ]
  },
  {
   "cell_type": "markdown",
   "metadata": {},
   "source": [
    "# Building image 1"
   ]
  },
  {
   "cell_type": "code",
   "execution_count": 4,
   "metadata": {
    "ExecuteTime": {
     "end_time": "2020-05-16T18:58:31.999617Z",
     "start_time": "2020-05-16T18:58:31.864435Z"
    }
   },
   "outputs": [],
   "source": [
    "image0 = ImageClip(\"./data/image0.png\", duration=20)\n",
    "\n",
    "text0 = [\"\",\n",
    "         \"Питоны (Pythonidae) – семейство неядовитых удавообразных змей класса пресмыкающиеся.\",\n",
    "         \"В настоящее время насчитывается 9 родов и 41 вид семейства Питоны.\",\n",
    "         \"Размеры питонов колеблются от 1 до 7 м (сетчатый питон).\",\n",
    "         \"Питонов называют ложноногие, поскольку у них сохранились рудименты задних конечностей и тазового пояса.\",\n",
    "         \"\"]\n",
    "\n",
    "txt_0 = TextClip('\\n'.join(text0), color='white', font='Calibri', fontsize=14)\n",
    "txt_0 = txt_0.set_duration(20)\n",
    "\n",
    "txt_0 = txt_0.on_color(size=(image0.w, txt_0.h),\n",
    "                       color=(0, 0, 0), pos=(\"center\", \"top\"), col_opacity=0.6)\n",
    "\n",
    "img_txt0 = CompositeVideoClip([image0, txt_0])"
   ]
  },
  {
   "cell_type": "markdown",
   "metadata": {},
   "source": [
    "# Buidling image 2"
   ]
  },
  {
   "cell_type": "code",
   "execution_count": 5,
   "metadata": {
    "ExecuteTime": {
     "end_time": "2020-05-16T18:58:32.116101Z",
     "start_time": "2020-05-16T18:58:32.002186Z"
    }
   },
   "outputs": [],
   "source": [
    "image1 = ImageClip(\"./data/image1.png\", duration=20)\n",
    "\n",
    "text1 = [\"\",\n",
    "         \"Питоны распространены в Восточном полушарии: в Африке к югу от Сахары, в Австралии, Азии.\",\n",
    "         \"Это универсальные животные. Они прекрасно живут в сухих и влажных местностях,\",\n",
    "         \"а если рядом расположены оба типа среды обитания, для них это также идеально подходит.\", \"\"]\n",
    "\n",
    "txt_1 = TextClip('\\n'.join(text1), color='white', font='Calibri', fontsize=14)\n",
    "txt_1 = txt_1.set_duration(20)\n",
    "\n",
    "txt_1 = txt_1.on_color(size=(image1.w, txt_1.h),\n",
    "                       color=(0, 0, 0), pos=(\"center\", \"top\"), col_opacity=0.6)\n",
    "\n",
    "img_txt1 = CompositeVideoClip([image1, txt_1])\n",
    "img_txt1 = img_txt1.set_start(20)"
   ]
  },
  {
   "cell_type": "markdown",
   "metadata": {
    "ExecuteTime": {
     "end_time": "2020-05-16T15:44:04.537166Z",
     "start_time": "2020-05-16T15:44:04.533620Z"
    }
   },
   "source": [
    "# Building image 3"
   ]
  },
  {
   "cell_type": "code",
   "execution_count": 6,
   "metadata": {
    "ExecuteTime": {
     "end_time": "2020-05-16T18:58:32.247671Z",
     "start_time": "2020-05-16T18:58:32.118264Z"
    }
   },
   "outputs": [],
   "source": [
    "image2 = ImageClip(\"./data/image2.png\", duration=20)\n",
    "\n",
    "text2 = [\"\",\n",
    "         \"Некоторые питоны умеют взбираться на деревья и плавать, существуют даже почти полностью древесные виды.\",\n",
    "         \"Эти способности увеличивают количество их потенциальной добычи.\",\n",
    "         \"Активны питоны в основном в сумерках и ночью.\", \"\"]\n",
    "\n",
    "txt_2 = TextClip('\\n'.join(text2), color='white', font='Calibri', fontsize=14)\n",
    "txt_2 = txt_2.set_duration(20)\n",
    "\n",
    "txt_2 = txt_2.on_color(size=(image2.w, txt_2.h),\n",
    "                       color=(0, 0, 0), pos=(\"center\", \"top\"), col_opacity=0.6)\n",
    "\n",
    "img_txt2 = CompositeVideoClip([image2, txt_2])\n",
    "img_txt2 = img_txt2.set_start(40)"
   ]
  },
  {
   "cell_type": "markdown",
   "metadata": {},
   "source": [
    "# Buidling image 4"
   ]
  },
  {
   "cell_type": "code",
   "execution_count": 7,
   "metadata": {
    "ExecuteTime": {
     "end_time": "2020-05-16T18:58:32.350335Z",
     "start_time": "2020-05-16T18:58:32.250321Z"
    }
   },
   "outputs": [],
   "source": [
    "image3 = ImageClip(\"./data/image3.png\", duration=20)\n",
    "\n",
    "text3 = [\"\",\n",
    "         \"Питоны ловят свою добычу, ожидая ее в засаде.\",\n",
    "         \"У них имеется раздвоенный язык с сенсорами,\",\n",
    "         \"который помогает им распознавать запах потенциальной добычи. \",\n",
    "         \"Они нападают с удивительной скоростью.\", \"\"]\n",
    "\n",
    "txt_3 = TextClip('\\n'.join(text3), color='white', font='Calibri', fontsize=14)\n",
    "txt_3 = txt_3.set_duration(20)\n",
    "\n",
    "txt_3 = txt_3.on_color(size=(image3.w, txt_3.h),\n",
    "                       color=(0, 0, 0), pos=(\"center\", \"top\"), col_opacity=0.6)\n",
    "\n",
    "img_txt3 = CompositeVideoClip([image3, txt_3])\n",
    "img_txt3 = img_txt3.set_start(60)\n",
    "img_txt3 = img_txt3.set_position((\"center\", \"center\"))"
   ]
  },
  {
   "cell_type": "markdown",
   "metadata": {},
   "source": [
    "# Adding text frame"
   ]
  },
  {
   "cell_type": "code",
   "execution_count": 8,
   "metadata": {
    "ExecuteTime": {
     "end_time": "2020-05-16T18:58:32.391794Z",
     "start_time": "2020-05-16T18:58:32.354969Z"
    }
   },
   "outputs": [],
   "source": [
    "# Add frame with text\n",
    "txt_plain1 = TextClip(\"Давайте посмотрим схватку питона и аллигатора\",\n",
    "                      color='white', font='Calibri', fontsize=30)\n",
    "txt_plain1 = txt_plain1.set_duration(5)\n",
    "txt_plain1 = txt_plain1.set_start(80)\n",
    "txt_plain1 = txt_plain1.set_position((\"center\", \"center\"))"
   ]
  },
  {
   "cell_type": "markdown",
   "metadata": {
    "ExecuteTime": {
     "end_time": "2020-05-16T16:08:21.028026Z",
     "start_time": "2020-05-16T16:08:21.024847Z"
    }
   },
   "source": [
    "# Adding video"
   ]
  },
  {
   "cell_type": "code",
   "execution_count": 9,
   "metadata": {
    "ExecuteTime": {
     "end_time": "2020-05-16T18:58:32.568912Z",
     "start_time": "2020-05-16T18:58:32.394910Z"
    }
   },
   "outputs": [],
   "source": [
    "hunt = VideoFileClip(\"./data/hunt.mp4\",\n",
    "                     resize_algorithm='bilinear').subclip(0, 30)\n",
    "hunt = hunt.set_start(85)\n",
    "hunt = hunt.set_position((\"center\", \"center\"))"
   ]
  },
  {
   "cell_type": "markdown",
   "metadata": {},
   "source": [
    "# Adding smechnyavochka"
   ]
  },
  {
   "cell_type": "code",
   "execution_count": 10,
   "metadata": {
    "ExecuteTime": {
     "end_time": "2020-05-16T18:58:32.654759Z",
     "start_time": "2020-05-16T18:58:32.571662Z"
    }
   },
   "outputs": [],
   "source": [
    "image4 = ImageClip(\"./data/image4.png\", duration=20)\n",
    "\n",
    "text4 = [\"\",\n",
    "         \"и немного мемов (смешнявочка)\", \"\"]\n",
    "\n",
    "txt_4 = TextClip('\\n'.join(text4), color='white', font='Calibri', fontsize=14)\n",
    "txt_4 = txt_4.set_duration(20)\n",
    "\n",
    "txt_4 = txt_4.on_color(size=(image4.w, txt_4.h),\n",
    "                       color=(0, 0, 0), pos=(\"center\", \"top\"), col_opacity=0.6)\n",
    "\n",
    "img_txt4 = CompositeVideoClip([image4, txt_4])\n",
    "img_txt4 = img_txt4.set_start(115)\n",
    "img_txt4 = img_txt4.set_position((\"center\", \"center\"))"
   ]
  },
  {
   "cell_type": "markdown",
   "metadata": {
    "ExecuteTime": {
     "end_time": "2020-05-16T16:33:47.730226Z",
     "start_time": "2020-05-16T16:33:47.725141Z"
    }
   },
   "source": [
    "# Adding final text frame"
   ]
  },
  {
   "cell_type": "code",
   "execution_count": 11,
   "metadata": {
    "ExecuteTime": {
     "end_time": "2020-05-16T18:58:32.735421Z",
     "start_time": "2020-05-16T18:58:32.657054Z"
    }
   },
   "outputs": [],
   "source": [
    "# Add frame with text\n",
    "text_last = [\"Oднако! Python назван не в честь змеи! :))\",\n",
    "             \"Создатель языка, Гвидо ван Россум, был поклонником\",\n",
    "             \"Британского комедийного шоу «Летающий цирк Монти Пайтона».\",\n",
    "             \"Вот и в честь «Монти Пайтона (Monty Python)»\",\n",
    "             \"язык назвался Python.\"]\n",
    "text_last = '\\n'.join(text_last)\n",
    "txt_plain2 = TextClip(text_last, color='white', font='Calibri', fontsize=23)\n",
    "txt_plain2 = txt_plain2.set_duration(15)\n",
    "txt_plain2 = txt_plain2.set_start(135)\n",
    "txt_plain2 = txt_plain2.set_position((\"center\", \"center\"))"
   ]
  },
  {
   "cell_type": "markdown",
   "metadata": {
    "ExecuteTime": {
     "end_time": "2020-05-16T16:33:47.740346Z",
     "start_time": "2020-05-16T16:33:47.733806Z"
    }
   },
   "source": [
    "# Joining everything together"
   ]
  },
  {
   "cell_type": "code",
   "execution_count": 12,
   "metadata": {
    "ExecuteTime": {
     "end_time": "2020-05-16T19:00:33.503258Z",
     "start_time": "2020-05-16T18:58:32.738610Z"
    },
    "scrolled": true
   },
   "outputs": [
    {
     "name": "stderr",
     "output_type": "stream",
     "text": [
      "chunk:   3%|▎         | 102/3308 [00:00<00:03, 1001.26it/s, now=None]"
     ]
    },
    {
     "name": "stdout",
     "output_type": "stream",
     "text": [
      "Moviepy - Building video ./result.avi.\n",
      "MoviePy - Writing audio in resultTEMP_MPY_wvf_snd.mp3\n"
     ]
    },
    {
     "name": "stderr",
     "output_type": "stream",
     "text": [
      "t:   0%|          | 4/3600 [00:00<01:50, 32.50it/s, now=None]         "
     ]
    },
    {
     "name": "stdout",
     "output_type": "stream",
     "text": [
      "MoviePy - Done.\n",
      "Moviepy - Writing video ./result.avi\n",
      "\n"
     ]
    },
    {
     "name": "stderr",
     "output_type": "stream",
     "text": [
      "                                                                 "
     ]
    },
    {
     "name": "stdout",
     "output_type": "stream",
     "text": [
      "Moviepy - Done !\n",
      "Moviepy - video ready ./result.avi\n"
     ]
    },
    {
     "name": "stderr",
     "output_type": "stream",
     "text": [
      "\r"
     ]
    }
   ],
   "source": [
    "img0123 = CompositeVideoClip([img_txt0, img_txt1, img_txt2, img_txt3,\n",
    "                              txt_plain1, hunt.resize(0.65), img_txt4.resize(0.8), txt_plain2])\n",
    "img0123 = img0123.set_audio(music_short)\n",
    "img0123.write_videofile(\"./result.avi\",fps=24,codec='libx264')"
   ]
  },
  {
   "cell_type": "code",
   "execution_count": null,
   "metadata": {},
   "outputs": [],
   "source": []
  }
 ],
 "metadata": {
  "kernelspec": {
   "display_name": "Python 3",
   "language": "python",
   "name": "python3"
  },
  "language_info": {
   "codemirror_mode": {
    "name": "ipython",
    "version": 3
   },
   "file_extension": ".py",
   "mimetype": "text/x-python",
   "name": "python",
   "nbconvert_exporter": "python",
   "pygments_lexer": "ipython3",
   "version": "3.7.6"
  },
  "toc": {
   "base_numbering": 1,
   "nav_menu": {},
   "number_sections": true,
   "sideBar": true,
   "skip_h1_title": false,
   "title_cell": "Table of Contents",
   "title_sidebar": "Contents",
   "toc_cell": false,
   "toc_position": {},
   "toc_section_display": true,
   "toc_window_display": true
  }
 },
 "nbformat": 4,
 "nbformat_minor": 4
}
